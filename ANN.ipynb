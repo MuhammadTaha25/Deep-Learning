{
  "nbformat": 4,
  "nbformat_minor": 0,
  "metadata": {
    "colab": {
      "provenance": [],
      "authorship_tag": "ABX9TyMFyWuTfZyAXWZF2ww9BcyL",
      "include_colab_link": true
    },
    "kernelspec": {
      "name": "python3",
      "display_name": "Python 3"
    },
    "language_info": {
      "name": "python"
    }
  },
  "cells": [
    {
      "cell_type": "markdown",
      "metadata": {
        "id": "view-in-github",
        "colab_type": "text"
      },
      "source": [
        "<a href=\"https://colab.research.google.com/github/MuhammadTaha25/Deep-Learning/blob/main/ANN.ipynb\" target=\"_parent\"><img src=\"https://colab.research.google.com/assets/colab-badge.svg\" alt=\"Open In Colab\"/></a>"
      ]
    },
    {
      "cell_type": "code",
      "execution_count": null,
      "metadata": {
        "id": "y1ODGgFYbowf"
      },
      "outputs": [],
      "source": [
        "from tensorflow.keras.datasets import mnist       # to load the MNIST dataset\n",
        "from tensorflow.keras.models import Sequential   # to build a sequential neural network model\n",
        "from tensorflow.keras.layers import Dense        # to add fully connected (Dense) layers\n",
        "from tensorflow.keras.utils import to_categorical # to convert integer labels to one-hot encoded vectors\n"
      ]
    },
    {
      "cell_type": "code",
      "source": [
        "# Load the MNIST dataset:\n",
        "# x_train, y_train → training images and their labels\n",
        "# x_test,  y_test  → testing images and their labels\n",
        "(x_train, y_train), (x_test, y_test) = mnist.load_data()\n"
      ],
      "metadata": {
        "id": "Khq4rHLDb_gy"
      },
      "execution_count": null,
      "outputs": []
    },
    {
      "cell_type": "code",
      "source": [
        "import matplotlib.pyplot as plt   # import matplotlib for plotting\n",
        "\n",
        "n = 20  # number of images to display\n",
        "\n",
        "# create a figure with width=20 inches and height=4 inches\n",
        "plt.figure(figsize=(20, 4))\n",
        "\n",
        "# create a grid of 2 rows × n columns for subplots\n",
        "for i in range(n):\n",
        "    ax = plt.subplot(2, n, i + 1)    # select the i-th subplot in the grid\n",
        "    plt.imshow(x_test[i])            # display the i-th test image\n",
        "    plt.gray()                       # apply a grayscale colormap\n",
        "    ax.get_xaxis().set_visible(False)  # hide x-axis ticks\n",
        "    ax.get_yaxis().set_visible(False)  # hide y-axis ticks\n",
        "\n",
        "plt.show()   # render the plot\n",
        "plt.close()  # close the plot window\n"
      ],
      "metadata": {
        "id": "GCQjEZD8cGy7"
      },
      "execution_count": null,
      "outputs": []
    },
    {
      "cell_type": "code",
      "source": [
        "import matplotlib.pyplot as plt  # import matplotlib for plotting\n",
        "import numpy as np               # import numpy for array operations\n",
        "\n",
        "# Assume x_test[0] is normalized (0–1). Scale to 0–255 and convert to integer\n",
        "image = (x_test[0] * 255).astype(int)  # now a 2D array of ints in [0,255]\n",
        "\n",
        "# Display the image\n",
        "plt.figure(figsize=(5, 5))\n",
        "plt.imshow(image, cmap='gray', vmin=0, vmax=255)\n",
        "plt.title(\"Image with Shades (0–255)\")\n",
        "plt.colorbar(label='Pixel Intensity')\n",
        "plt.axis('off')\n",
        "plt.show()\n",
        "\n",
        "# Print out the pixel values\n",
        "print(\"Pixel Shade Values (0–255):\")\n",
        "print(image)\n"
      ],
      "metadata": {
        "id": "yOiuwXxFcLzs"
      },
      "execution_count": null,
      "outputs": []
    },
    {
      "cell_type": "code",
      "source": [
        "# Flatten the images to vectors of length 784 (28×28)\n",
        "x_test  = x_test.reshape(10000, 784)   # 10,000 test samples\n",
        "x_train = x_train.reshape(60000, 784)  # 60,000 train samples\n",
        "\n",
        "# Convert data type to float32 for precise division\n",
        "x_test  = x_test.astype('float32')\n",
        "x_train = x_train.astype('float32')\n",
        "\n",
        "# Normalize pixel values to the [0–1] range\n",
        "x_train /= 255\n",
        "x_test  /= 255\n"
      ],
      "metadata": {
        "id": "UwfewKpzcQ7z"
      },
      "execution_count": null,
      "outputs": []
    },
    {
      "cell_type": "code",
      "source": [
        "from tensorflow.keras.utils import to_categorical  # for one-hot encoding\n",
        "\n",
        "# Convert integer labels to one-hot vectors of length 10\n",
        "y_train = to_categorical(y_train, 10)\n",
        "y_test  = to_categorical(y_test, 10)\n"
      ],
      "metadata": {
        "id": "bHuTEcZwcUdx"
      },
      "execution_count": null,
      "outputs": []
    },
    {
      "cell_type": "code",
      "source": [
        "# Define hyperparameters\n",
        "input_size     = 784    # number of input neurons (28×28)\n",
        "epochs         = 15     # number of full passes over the training data\n",
        "batch_size     = 250    # number of samples per gradient update\n",
        "hidden_layer1  = 300    # neurons in the first hidden layer\n",
        "hidden_layer2  = 40     # neurons in the second hidden layer\n",
        "output         = 10     # number of output classes (digits 0–9)\n"
      ],
      "metadata": {
        "id": "Dk8AadBpcaw4"
      },
      "execution_count": null,
      "outputs": []
    },
    {
      "cell_type": "code",
      "source": [
        "from tensorflow.keras.models import Sequential\n",
        "from tensorflow.keras.layers import Dense\n",
        "\n",
        "# Build a simple feed-forward neural network\n",
        "model = Sequential()\n",
        "model.add(Dense(hidden_layer1, input_dim=input_size, activation='relu'))\n",
        "model.add(Dense(hidden_layer2, activation='relu'))\n",
        "model.add(Dense(output, activation='softmax'))\n"
      ],
      "metadata": {
        "id": "42qLlEuFd_us"
      },
      "execution_count": null,
      "outputs": []
    },
    {
      "cell_type": "code",
      "source": [
        "from tensorflow.keras.models import Sequential\n",
        "from tensorflow.keras.layers import Dense\n",
        "\n",
        "# Sequential model shuru karo\n",
        "model = Sequential()\n",
        "\n",
        "# Pehli hidden layer:\n",
        "# neurons = hidden_layer1,\n",
        "# input dimension = input_size (784),\n",
        "# activation function = ReLU\n",
        "model.add(Dense(hidden_layer1, input_dim=input_size, activation='relu'))\n",
        "\n",
        "# Doosri hidden layer:\n",
        "# neurons = hidden_layer2,\n",
        "# activation function = ReLU\n",
        "model.add(Dense(hidden_layer2, activation='relu'))\n",
        "\n",
        "# Output layer:\n",
        "# neurons = output (10 classes),\n",
        "# activation function = softmax (probabilities)\n",
        "model.add(Dense(output, activation='softmax'))\n"
      ],
      "metadata": {
        "id": "_XRZV7GFceYW"
      },
      "execution_count": null,
      "outputs": []
    },
    {
      "cell_type": "code",
      "source": [
        "from time import time  # to measure training duration\n",
        "\n",
        "tic = time()\n",
        "\n",
        "# training the model\n",
        "model.fit(\n",
        "    x_train, y_train,\n",
        "    epochs=epochs,\n",
        "    batch_size=batch_size\n",
        ")\n",
        "toc = time()\n",
        "\n",
        "print(\"Time taken for model training:\", toc - tic, \"seconds\")\n"
      ],
      "metadata": {
        "id": "8xmVkr_kcoPS"
      },
      "execution_count": null,
      "outputs": []
    },
    {
      "cell_type": "markdown",
      "source": [
        "yeh wala"
      ],
      "metadata": {
        "id": "AeZVS3vweQfk"
      }
    },
    {
      "cell_type": "code",
      "source": [
        "# Predict class‐probabilities on the test set\n",
        "y_pred_probs = model.predict(x_test)\n"
      ],
      "metadata": {
        "id": "GSCrQhXTeSRV"
      },
      "execution_count": null,
      "outputs": []
    },
    {
      "cell_type": "code",
      "source": [
        "from sklearn.metrics import accuracy_score  # accuracy_score function import kar ke accuracy nikalne ke liye\n",
        "import numpy as np                         # NumPy import karo array operations ke liye\n",
        "\n",
        "# x_test pe model se har class ki probability predict karo\n",
        "y_pred_probs = model.predict(x_test)\n",
        "\n",
        "# 0.5 threshold use karke probabilities ko 0/1 binary values me convert karo\n",
        "# agar probability > 0.5 hogi to 1, warna 0\n",
        "y_pred_binary = np.where(y_pred_probs > 0.5, 1, 0)\n"
      ],
      "metadata": {
        "id": "BVDfRELEdFvv"
      },
      "execution_count": null,
      "outputs": []
    },
    {
      "cell_type": "code",
      "source": [
        "import numpy as np\n",
        "from sklearn.metrics import accuracy_score\n",
        "\n",
        "# Convert probabilities to binary (0/1) using a 0.5 threshold\n",
        "y_pred_binary = np.where(y_pred_probs > 0.5, 1, 0)\n",
        "\n",
        "# From the binary matrix, extract predicted class labels\n",
        "y_pred_labels = np.argmax(y_pred_binary, axis=1)\n",
        "\n",
        "# Convert true one-hot labels back to integer class labels\n",
        "y_true_labels = np.argmax(y_test, axis=1)\n",
        "\n",
        "# Compute and print test accuracy\n",
        "acc = accuracy_score(y_true_labels, y_pred_labels)\n",
        "print(\"Test accuracy:\", acc)\n"
      ],
      "metadata": {
        "id": "thVmiq7MdJqg"
      },
      "execution_count": null,
      "outputs": []
    },
    {
      "cell_type": "code",
      "source": [
        "# Select test samples from index 20 to 39\n",
        "x = x_test[20:40]\n",
        "\n",
        "# Predict class probabilities for these samples\n",
        "y_pred_proba = model.predict(x)\n",
        "\n",
        "# Convert probabilities to binary (0/1) predictions with a 0.5 threshold\n",
        "y_predicts = np.where(y_pred_proba > 0.5, 1, 0)\n"
      ],
      "metadata": {
        "id": "UVXVtZjYdt82"
      },
      "execution_count": null,
      "outputs": []
    },
    {
      "cell_type": "code",
      "source": [
        "import matplotlib.pyplot as plt  # import matplotlib for plotting\n",
        "\n",
        "n = 10  # number of examples to display\n",
        "\n",
        "# Create a figure of size 10\"x4\"\n",
        "plt.figure(figsize=(10, 4))\n",
        "\n",
        "# Loop over the first n examples\n",
        "for i in range(n):\n",
        "    # Top row: display the i-th image (reshaped back to 28×28)\n",
        "    ax_img = plt.subplot(2, n, i + 1)\n",
        "    plt.imshow(x[i].reshape(28, 28))  # show image\n",
        "    plt.gray()                       # use grayscale colormap\n",
        "    ax_img.get_xaxis().set_visible(False)  # hide x-axis ticks\n",
        "    ax_img.get_yaxis().set_visible(False)  # hide y-axis ticks\n",
        "\n",
        "    # Compute the predicted class by taking argmax of the binary predictions\n",
        "    y_pred_argmax = np.argmax(y_predicts[i])\n",
        "\n",
        "    # Bottom row: display the predicted label as text\n",
        "    ax_txt = plt.subplot(2, n, i + 1 + n)\n",
        "    plt.text(\n",
        "        0.5, 0.5,                       # position text in the center\n",
        "        y_pred_argmax,                  # predicted digit\n",
        "        fontsize=18,                    # font size\n",
        "        ha='center',                    # horizontal alignment\n",
        "        va='center'                     # vertical alignment\n",
        "    )\n",
        "    plt.axis('off')  # hide axes around the text\n",
        "\n",
        "# Render the full figure\n",
        "plt.show()\n",
        "plt.close()\n"
      ],
      "metadata": {
        "id": "GcOUlAiFeZSW"
      },
      "execution_count": null,
      "outputs": []
    }
  ]
}